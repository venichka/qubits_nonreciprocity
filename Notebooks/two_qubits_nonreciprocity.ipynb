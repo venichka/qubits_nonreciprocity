{
 "cells": [
  {
   "cell_type": "markdown",
   "id": "b1ef3f1b-be86-4052-8457-b7dff4a01d46",
   "metadata": {},
   "source": [
    "# Nonreciprocity in the system of two transmons\n",
    "\n",
    "Computing nonreciprocity in the system of two superconducting qubits (transmons).\n",
    "\n",
    "Conventional approach with TLS."
   ]
  },
  {
   "cell_type": "code",
   "execution_count": 1020,
   "id": "07eac9a0-54e7-45eb-9402-f741b2600794",
   "metadata": {},
   "outputs": [],
   "source": [
    "import qutip as qt\n",
    "import numpy as np\n",
    "import qucat as qc\n",
    "import matplotlib.pyplot as plt"
   ]
  },
  {
   "cell_type": "markdown",
   "id": "a092dd85-e5ed-488d-9bc9-897a15ddbff7",
   "metadata": {},
   "source": [
    " ## System parameters"
   ]
  },
  {
   "cell_type": "code",
   "execution_count": 1197,
   "id": "c7874dc5-ea11-4b16-90a7-a6cc2e9a0560",
   "metadata": {},
   "outputs": [],
   "source": [
    "N_excitations = 2\n",
    "N_qubits = 2\n",
    "DIM = N_excitations**N_qubits\n",
    "NMAX = 50\n",
    "DIRECTION = 'R'\n",
    "\n",
    "# Asymmetry and decay\n",
    "delta = 1e-1\n",
    "gamma = 1e-2\n",
    "gamma_nr = 2e-3*gamma\n",
    "gamma_phi = 2e-3*gamma\n",
    "\n",
    "# Field parameters\n",
    "w_ext = 1.0\n",
    "a_mag = 1e-2\n",
    "if DIRECTION == 'R':\n",
    "    a_R = a_mag\n",
    "    a_L = 0e-2\n",
    "elif DIRECTION == 'L':\n",
    "    a_R = 0e-2\n",
    "    a_L = a_mag\n",
    "a_inc = {'R': a_R, 'L': a_L}\n",
    "\n",
    "# Phase shifts\n",
    "t_j = np.array([0.0, (np.pi - delta) / w_ext])\n",
    "t_ij = np.array([[t_j[i] - t_j[j] for j in range(N_qubits)] for i in range(N_qubits)])\n",
    "\n",
    "# Qubit parameters\n",
    "w_q = np.array([w_ext, w_ext - delta*gamma])\n",
    "gammas = np.array([gamma for j in range(N_qubits)])\n",
    "deltas = np.array([w_q[j] - w_ext for j in range(N_qubits)])\n",
    "Omega_R = np.array([1.0j*np.sqrt(0.5*gammas[j])*\n",
    "                  (a_inc['R'] * np.exp(-1j * w_ext * t_j[j]) + \n",
    "                   a_inc['L'] * np.exp(1j * w_ext * t_j[j])) \n",
    "                  for j in range(N_qubits)])\n",
    "Omega = np.array([[0.5*np.sqrt(gammas[i]*gammas[j])*\n",
    "                   np.sin(w_ext * np.abs(t_ij[i,j]))\n",
    "                   for j in range(N_qubits)] \n",
    "                  for i in range(N_qubits)])\n",
    "Gamma = np.array([[0.5*np.sqrt(gammas[i]*gammas[j])*\n",
    "                   np.cos(w_ext * np.abs(t_ij[i,j]))\n",
    "                   for j in range(N_qubits)] \n",
    "                  for i in range(N_qubits)])"
   ]
  },
  {
   "cell_type": "markdown",
   "id": "c81dfca2-1f82-4f90-8b81-28b3bd45acbf",
   "metadata": {
    "tags": []
   },
   "source": [
    "## Defining states and operators"
   ]
  },
  {
   "cell_type": "code",
   "execution_count": 1198,
   "id": "299d79f0-c54f-4cbc-aca9-661279d5048c",
   "metadata": {},
   "outputs": [],
   "source": [
    "# intial state\n",
    "psi0 = qt.basis(N_excitations, 0) # start without excitations\n",
    "for j in range(N_qubits - 1):\n",
    "    psi0 = qt.tensor(psi0, qt.basis(N_excitations, 0))\n",
    "rho0 = qt.ket2dm(psi0)\n",
    "\n",
    "# transition operators\n",
    "a_ops = [qt.destroy(N_excitations) if i==0 else qt.qeye(N_excitations) for i in range(N_qubits)]\n",
    "\n",
    "for i in range(N_qubits):\n",
    "    for j in range(1, N_qubits):\n",
    "        if i==j:\n",
    "            j_op = qt.destroy(N_excitations)\n",
    "        else: \n",
    "            j_op = qt.qeye(N_excitations)\n",
    "            \n",
    "        a_ops[i] = qt.tensor(a_ops[i], j_op)\n",
    "        \n",
    "# unity operator        \n",
    "i_op = qt.qeye(N_excitations)\n",
    "for j in range(1, N_qubits):\n",
    "    i_op = qt.tensor(i_op, qt.qeye(N_excitations))\n",
    "\n",
    "# output operators\n",
    "out_ops = {'R': a_inc['R']*i_op + sum([np.exp(-1j*w_q[j]*t_j[j])*\n",
    "                                         np.sqrt(0.5*gammas[j])*a_ops[j] for j in range(N_qubits)]),\n",
    "           'L': a_inc['L']*i_op + sum([np.exp(1j*w_q[j]*t_j[j])*\n",
    "                                         np.sqrt(0.5*gammas[j])*a_ops[j] for j in range(N_qubits)])}"
   ]
  },
  {
   "cell_type": "markdown",
   "id": "5dfe4023-134a-4972-b930-95f9076b1510",
   "metadata": {},
   "source": [
    "## Hamiltonian and Liouvillian"
   ]
  },
  {
   "cell_type": "code",
   "execution_count": 1199,
   "id": "28316c47-68d8-4a1e-9899-b115f97ecc9d",
   "metadata": {},
   "outputs": [],
   "source": [
    "def hamiltonian_tls(deltas, Omega_R, Omega):\n",
    "    H_0 = sum([deltas[j]*a_ops[j].dag()*a_ops[j] for j in range(N_qubits)])\n",
    "    H_f = sum([Omega_R[j]*a_ops[j] + np.conj(Omega_R[j])*a_ops[j].dag() for j in range(N_qubits)])\n",
    "    H_d = sum(sum([[Omega[i,j]*a_ops[i].dag()*a_ops[j] for j in range(N_qubits)] for i in range(N_qubits)], []))\n",
    "    return H_0 + H_f + H_d, H_0, H_f, H_d"
   ]
  },
  {
   "cell_type": "code",
   "execution_count": 1200,
   "id": "d697b233-ea53-4200-ad8f-cb5403e547dd",
   "metadata": {},
   "outputs": [],
   "source": [
    "def transmission(direction: str, rho, a_inc):\n",
    "    return qt.expect(out_ops[direction].dag()*out_ops[direction], \n",
    "                     rho) / np.abs(a_inc)**2"
   ]
  },
  {
   "cell_type": "code",
   "execution_count": 1201,
   "id": "66ac2ae3-84a3-408a-9799-167f77c09020",
   "metadata": {},
   "outputs": [],
   "source": [
    "def transmission_f(direction: str, rho, a_inc):\n",
    "    return np.abs(qt.expect(out_ops[direction], rho)) / np.abs(a_inc)"
   ]
  },
  {
   "cell_type": "code",
   "execution_count": 1202,
   "id": "78cb991a-6c38-4217-be4a-e2cb28e56788",
   "metadata": {},
   "outputs": [],
   "source": [
    "H, H_0, H_f, H_d  = hamiltonian_tls(deltas, Omega_R, Omega)\n",
    "L_diss = sum([sum([2*Gamma[i,j]*qt.lindblad_dissipator(a_ops[i], a_ops[j]) \n",
    "                   for j in range(N_qubits)]) for i in range(N_qubits)])\n",
    "c_ops_nr = [np.sqrt(gamma_nr) * a_ops[j] for j in range(len(a_ops))]\n",
    "c_ops_deph = [np.sqrt(gamma_phi) * (a_ops[j].dag()*a_ops[j] - a_ops[j]*a_ops[j].dag()) for j in range(len(a_ops))]\n",
    "L_0 = qt.liouvillian(H, c_ops=c_ops_nr + c_ops_deph)\n",
    "L = L_0 + L_diss"
   ]
  },
  {
   "cell_type": "markdown",
   "id": "b6e80d21-af54-4e69-8931-bb17b67a7f80",
   "metadata": {},
   "source": [
    "## Time evolution"
   ]
  },
  {
   "cell_type": "code",
   "execution_count": 1203,
   "id": "87e6b811-ecdc-4fe2-ae39-459893206d7d",
   "metadata": {},
   "outputs": [],
   "source": [
    "# ODE solver options\n",
    "opts = qt.Options(atol=1e-16, rtol=1e-14, method='adams', order=12, nsteps=10000, first_step=0, max_step=0, \n",
    "        min_step=0, average_expect=True, average_states=False, tidy=True, num_cpus=0, norm_tol=0.001, \n",
    "        norm_t_tol=1e-06, norm_steps=5, rhs_reuse=False, rhs_filename=None, ntraj=500, gui=False, \n",
    "        rhs_with_state=False, store_final_state=False, store_states=False, steady_state_average=False, \n",
    "        seeds=None, normalize_output=True, use_openmp=None, openmp_threads=None)\n"
   ]
  },
  {
   "cell_type": "code",
   "execution_count": 1204,
   "id": "028f2388-d079-4da1-8f39-ef94c73521a5",
   "metadata": {},
   "outputs": [],
   "source": [
    "tlist = np.linspace(0.0, 1e6, 200)\n",
    "rho_ss = qt.steadystate(L, method='iterative-gmres', maxiter=1e9, tol=1e-24, use_precond=True)\n",
    "result_t = qt.mesolve(L, rho0, tlist, c_ops=[], e_ops=[], options=qt.Options(nsteps=1e7))"
   ]
  },
  {
   "cell_type": "code",
   "execution_count": 1205,
   "id": "23412b01-2e10-41a5-b25d-c9c21d9ddd98",
   "metadata": {},
   "outputs": [
    {
     "data": {
      "text/latex": [
       "Quantum object: dims = [[2, 2], [2, 2]], shape = (4, 4), type = oper, isherm = True $ \\\\ \\left(\\begin{matrix}0.986 & (0.052-0.003j) & (-0.086+0.002j) & (-0.009+6.907\\times10^{-04}j)\\\\(0.052+0.003j) & 0.004 & (-0.003-5.135\\times10^{-05}j) & (-4.970\\times10^{-04}+2.544\\times10^{-05}j)\\\\(-0.086-0.002j) & (-0.003+5.135\\times10^{-05}j) & 0.009 & (8.458\\times10^{-04}-2.277\\times10^{-05}j)\\\\(-0.009-6.907\\times10^{-04}j) & (-4.970\\times10^{-04}-2.544\\times10^{-05}j) & (8.458\\times10^{-04}+2.277\\times10^{-05}j) & 9.430\\times10^{-05}\\\\\\end{matrix}\\right)$"
      ],
      "text/plain": [
       "Quantum object: dims = [[2, 2], [2, 2]], shape = (4, 4), type = oper, isherm = True\n",
       "Qobj data =\n",
       "[[ 9.86146380e-01+0.00000000e+00j  5.17326763e-02-3.43913209e-03j\n",
       "  -8.64130962e-02+1.63883913e-03j -9.49049435e-03+6.90723096e-04j]\n",
       " [ 5.17326763e-02+3.43913209e-03j  4.41908642e-03+0.00000000e+00j\n",
       "  -2.84663039e-03-5.13484257e-05j -4.96962043e-04+2.54379470e-05j]\n",
       " [-8.64130962e-02-1.63883913e-03j -2.84663039e-03+5.13484257e-05j\n",
       "   9.34023354e-03+0.00000000e+00j  8.45812273e-04-2.27748878e-05j]\n",
       " [-9.49049435e-03-6.90723096e-04j -4.96962043e-04-2.54379470e-05j\n",
       "   8.45812273e-04+2.27748878e-05j  9.43003166e-05+0.00000000e+00j]]"
      ]
     },
     "execution_count": 1205,
     "metadata": {},
     "output_type": "execute_result"
    }
   ],
   "source": [
    "rho_ss"
   ]
  },
  {
   "cell_type": "code",
   "execution_count": 1206,
   "id": "6ade1b80-7b01-4342-abfe-2dea627eba5f",
   "metadata": {},
   "outputs": [
    {
     "data": {
      "text/plain": [
       "0.01633491637400923"
      ]
     },
     "execution_count": 1206,
     "metadata": {},
     "output_type": "execute_result"
    }
   ],
   "source": [
    "transmission(DIRECTION, rho_ss, a_inc[DIRECTION])"
   ]
  },
  {
   "cell_type": "code",
   "execution_count": 1207,
   "id": "5a8a9db8-0cf2-46d1-a7f3-668212ad1cf5",
   "metadata": {},
   "outputs": [
    {
     "data": {
      "image/png": "[encoded data removed]",
      "text/plain": [
       "<Figure size 640x480 with 3 Axes>"
      ]
     },
     "metadata": {},
     "output_type": "display_data"
    }
   ],
   "source": [
    "fig_0, ax = plt.subplots(3, 1)\n",
    "ax[0].plot(tlist, [result_t.states[i].diag()[1:DIM] for i in range(len(tlist))])\n",
    "ax[0].set_ylabel(r'$\\rho_{jj}$')\n",
    "ax[1].plot(tlist, np.abs(qt.expect(a_ops[0], result_t.states)), color='r', label='qubit 1')\n",
    "ax[1].plot(tlist, np.abs(qt.expect(a_ops[1], result_t.states)), color='b', label='qubit 2')\n",
    "ax[1].set_ylabel('Dipole moment')\n",
    "ax[1].legend()\n",
    "ax[2].plot(tlist, np.abs(qt.expect(out_ops['R'], result_t.states)), color='r', label='R')\n",
    "ax[2].plot(tlist, np.abs(qt.expect(out_ops['L'], result_t.states)), color='b', label='L')\n",
    "ax[2].set_xlabel('Time')\n",
    "ax[2].set_ylabel('Output')\n",
    "ax[2].legend()\n",
    "fig_0.suptitle(r\"$a_R = %s$, $a_L = %s$\" % (a_inc['R'], a_inc['L']))\n",
    "fig_0.tight_layout()"
   ]
  },
  {
   "cell_type": "markdown",
   "id": "84903aae-c6fd-4d26-bf82-6c48ef54cf91",
   "metadata": {},
   "source": [
    "## Incident power dependence"
   ]
  },
  {
   "cell_type": "code",
   "execution_count": 1208,
   "id": "932a6504-5e4e-4d0a-93a9-839c08c11e72",
   "metadata": {},
   "outputs": [],
   "source": [
    "def transmission_power_dependence(a_inc, direction: str = 'R'):\n",
    "    Omega_R = np.array([1.0j*np.sqrt(0.5*gammas[j])*\n",
    "                  (a_inc * np.exp(- 1j * w_ext * t_j[j])\n",
    "                   if direction == 'R' else\n",
    "                   a_inc * np.exp(1j * w_ext * t_j[j]))\n",
    "                  for j in range(N_qubits)])\n",
    "    out_ops = {'R': a_inc*i_op + sum([np.exp(-1j*w_q[j]*t_j[j])*\n",
    "                                         np.sqrt(0.5*gammas[j])*a_ops[j] for j in range(N_qubits)]),\n",
    "               'L': a_inc*i_op + sum([np.exp(1j*w_q[j]*t_j[j])*\n",
    "                                         np.sqrt(0.5*gammas[j])*a_ops[j] for j in range(N_qubits)])}\n",
    "    \n",
    "    H, _, _, _ = hamiltonian_tls(deltas, Omega_R, Omega)\n",
    "    L_diss = sum([sum([2*Gamma[i,j]*qt.lindblad_dissipator(a_ops[i], a_ops[j]) \n",
    "                       for j in range(N_qubits)]) for i in range(N_qubits)])\n",
    "    c_ops_nr = [np.sqrt(gamma_nr) * a_ops[j] for j in range(len(a_ops))]\n",
    "    c_ops_deph = [np.sqrt(gamma_phi) * (a_ops[j].dag()*a_ops[j] - a_ops[j]*a_ops[j].dag()) for j in range(len(a_ops))]\n",
    "    L_0 = qt.liouvillian(H, c_ops=c_ops_nr + c_ops_deph)\n",
    "    L = L_0 + L_diss\n",
    "    \n",
    "    rho_ss = qt.steadystate(L, method='iterative-gmres', maxiter=1e9, tol=1e-24, use_precond=True)\n",
    "    #(qt.expect(out_ops[direction].dag()*out_ops[direction], \n",
    "    #                 rho_ss) / np.abs(a_inc)**2)  # intensity transmission\n",
    "    return (np.abs(qt.expect(out_ops[direction], rho_ss)) / np.abs(a_inc))  # field transmission"
   ]
  },
  {
   "cell_type": "code",
   "execution_count": 1209,
   "id": "fb3a5da9-acb2-443d-bb7a-241aee20e0dc",
   "metadata": {},
   "outputs": [
    {
     "data": {
      "text/plain": [
       "0.999950873267721"
      ]
     },
     "execution_count": 1209,
     "metadata": {},
     "output_type": "execute_result"
    }
   ],
   "source": [
    "transmission_power_dependence(10.1, direction='L')"
   ]
  },
  {
   "cell_type": "code",
   "execution_count": 1210,
   "id": "0a64522d-021f-4065-bad1-5b5a66375130",
   "metadata": {},
   "outputs": [],
   "source": [
    "a_inc_list = 10.0**np.linspace(-6, 0, NMAX)  # field amplitudes\n",
    "\n",
    "transmission_R = np.array(qt.parallel_map(transmission_power_dependence, \n",
    "                                 a_inc_list,  \n",
    "                                 task_kwargs=dict(direction='R')))\n",
    "transmission_L = np.array(qt.parallel_map(transmission_power_dependence, \n",
    "                                 a_inc_list,  \n",
    "                                 task_kwargs=dict(direction='L')))\n",
    "efficiency = (transmission_L*np.abs((transmission_L - transmission_R) /\n",
    "                         (transmission_L + transmission_R)))"
   ]
  },
  {
   "cell_type": "code",
   "execution_count": 1211,
   "id": "387e8a93-8b7a-408c-9155-0cc0b406fdc5",
   "metadata": {},
   "outputs": [
    {
     "data": {
      "text/plain": [
       "Text(0, 0.5, 'Transmission')"
      ]
     },
     "execution_count": 1211,
     "metadata": {},
     "output_type": "execute_result"
    },
    {
     "data": {
      "image/png": "[encoded data removed]",
      "text/plain": [
       "<Figure size 640x480 with 1 Axes>"
      ]
     },
     "metadata": {},
     "output_type": "display_data"
    }
   ],
   "source": [
    "fig_1, ax = plt.subplots(1, 1)\n",
    "\n",
    "ax.plot(a_inc_list, transmission_R, color='r', label='R')\n",
    "ax.plot(a_inc_list, transmission_L, color='b', label='L')\n",
    "ax.plot(a_inc_list, efficiency, color='black', label='M')\n",
    "ax.set_xscale('log')\n",
    "ax.set_xlabel(r'$a_\\mathrm{inc}$')\n",
    "ax.set_ylabel('Transmission')"
   ]
  },
  {
   "cell_type": "code",
   "execution_count": null,
   "id": "5fedb2ce-e4a1-448e-89c3-3b6991378328",
   "metadata": {},
   "outputs": [],
   "source": []
  }
 ],
 "metadata": {
  "kernelspec": {
   "display_name": "qiskit",
   "language": "python",
   "name": "qiskit"
  },
  "language_info": {
   "codemirror_mode": {
    "name": "ipython",
    "version": 3
   },
   "file_extension": ".py",
   "mimetype": "text/x-python",
   "name": "python",
   "nbconvert_exporter": "python",
   "pygments_lexer": "ipython3",
   "version": "3.10.9"
  }
 },
 "nbformat": 4,
 "nbformat_minor": 5
}
